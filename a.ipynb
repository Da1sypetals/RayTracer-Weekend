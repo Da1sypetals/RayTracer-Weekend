{
 "cells": [
  {
   "cell_type": "code",
   "execution_count": null,
   "metadata": {},
   "outputs": [
    {
     "name": "stdout",
     "output_type": "stream",
     "text": [
      "{k1: (-a1*ac2*d3 + a1*ac3*d2 + a2*ac1*d3 - a2*ac3*d1 - a3*ac1*d2 + a3*ac2*d1 + ac1*d2*o3 - ac1*d3*o2 - ac2*d1*o3 + ac2*d3*o1 + ac3*d1*o2 - ac3*d2*o1)/(ab1*ac2*d3 - ab1*ac3*d2 - ab2*ac1*d3 + ab2*ac3*d1 + ab3*ac1*d2 - ab3*ac2*d1), k2: (a1*ab2*d3 - a1*ab3*d2 - a2*ab1*d3 + a2*ab3*d1 + a3*ab1*d2 - a3*ab2*d1 - ab1*d2*o3 + ab1*d3*o2 + ab2*d1*o3 - ab2*d3*o1 - ab3*d1*o2 + ab3*d2*o1)/(ab1*ac2*d3 - ab1*ac3*d2 - ab2*ac1*d3 + ab2*ac3*d1 + ab3*ac1*d2 - ab3*ac2*d1), t: (a1*ab2*ac3 - a1*ab3*ac2 - a2*ab1*ac3 + a2*ab3*ac1 + a3*ab1*ac2 - a3*ab2*ac1 - ab1*ac2*o3 + ab1*ac3*o2 + ab2*ac1*o3 - ab2*ac3*o1 - ab3*ac1*o2 + ab3*ac2*o1)/(ab1*ac2*d3 - ab1*ac3*d2 - ab2*ac1*d3 + ab2*ac3*d1 + ab3*ac1*d2 - ab3*ac2*d1)}\n"
     ]
    }
   ],
   "source": [
    "import sympy as sp\n",
    "\n",
    "# 定义符号\n",
    "k1, k2, t = sp.symbols(\"k1 k2 t\")\n",
    "a1, a2, a3 = sp.symbols(\"a1 a2 a3\")\n",
    "x1, x2, x3 = sp.symbols(\"ab1 ab2 ab3\")\n",
    "y1, y2, y3 = sp.symbols(\"ac1 ac2 ac3\")\n",
    "o1, o2, o3 = sp.symbols(\"o1 o2 o3\")\n",
    "d1, d2, d3 = sp.symbols(\"d1 d2 d3\")\n",
    "\n",
    "# 定义向量 x, y, o, d\n",
    "a = sp.Matrix([a1, a2, a3])\n",
    "x = sp.Matrix([x1, x2, x3])\n",
    "y = sp.Matrix([y1, y2, y3])\n",
    "o = sp.Matrix([o1, o2, o3])\n",
    "d = sp.Matrix([d1, d2, d3])\n",
    "\n",
    "# 定义 p = o + t * d\n",
    "p = o + t * d\n",
    "\n",
    "# 建立方程组\n",
    "eq1 = a[0] + k1 * x[0] + k2 * y[0] - p[0]\n",
    "eq2 = a[1] + k1 * x[1] + k2 * y[1] - p[1]\n",
    "eq3 = a[2] + k1 * x[2] + k2 * y[2] - p[2]\n",
    "\n",
    "# 求解方程组\n",
    "solution = sp.solve([eq1, eq2, eq3], (k1, k2, t))\n",
    "\n",
    "print(solution)\n"
   ]
  },
  {
   "cell_type": "code",
   "execution_count": 9,
   "metadata": {},
   "outputs": [
    {
     "name": "stdout",
     "output_type": "stream",
     "text": [
      "let k1 = (-a1*ac2*d3 + a1*ac3*d2 + a2*ac1*d3 - a2*ac3*d1 - a3*ac1*d2 + a3*ac2*d1 + ac1*d2*o3 - ac1*d3*o2 - ac2*d1*o3 + ac2*d3*o1 + ac3*d1*o2 - ac3*d2*o1)/(ab1*ac2*d3 - ab1*ac3*d2 - ab2*ac1*d3 + ab2*ac3*d1 + ab3*ac1*d2 - ab3*ac2*d1);\n",
      "let k2 = (a1*ab2*d3 - a1*ab3*d2 - a2*ab1*d3 + a2*ab3*d1 + a3*ab1*d2 - a3*ab2*d1 - ab1*d2*o3 + ab1*d3*o2 + ab2*d1*o3 - ab2*d3*o1 - ab3*d1*o2 + ab3*d2*o1)/(ab1*ac2*d3 - ab1*ac3*d2 - ab2*ac1*d3 + ab2*ac3*d1 + ab3*ac1*d2 - ab3*ac2*d1);\n",
      "let t = (a1*ab2*ac3 - a1*ab3*ac2 - a2*ab1*ac3 + a2*ab3*ac1 + a3*ab1*ac2 - a3*ab2*ac1 - ab1*ac2*o3 + ab1*ac3*o2 + ab2*ac1*o3 - ab2*ac3*o1 - ab3*ac1*o2 + ab3*ac2*o1)/(ab1*ac2*d3 - ab1*ac3*d2 - ab2*ac1*d3 + ab2*ac3*d1 + ab3*ac1*d2 - ab3*ac2*d1);\n"
     ]
    }
   ],
   "source": [
    "for k, v in solution.items():\n",
    "    print(f\"let {k} = {v};\")"
   ]
  },
  {
   "cell_type": "code",
   "execution_count": null,
   "metadata": {},
   "outputs": [
    {
     "name": "stdout",
     "output_type": "stream",
     "text": [
      "let k1 = (-a1*ac2*ad3 + a1*ac3*ad2 + a2*ac1*ad3 - a2*ac3*ad1 - a3*ac1*ad2 + a3*ac2*ad1 + ac1*ad2*p3 - ac1*ad3*p2 - ac2*ad1*p3 + ac2*ad3*p1 + ac3*ad1*p2 - ac3*ad2*p1)/(ab1*ac2*ad3 - ab1*ac3*ad2 - ab2*ac1*ad3 + ab2*ac3*ad1 + ab3*ac1*ad2 - ab3*ac2*ad1);\n",
      "let k2 = (a1*ab2*ad3 - a1*ab3*ad2 - a2*ab1*ad3 + a2*ab3*ad1 + a3*ab1*ad2 - a3*ab2*ad1 - ab1*ad2*p3 + ab1*ad3*p2 + ab2*ad1*p3 - ab2*ad3*p1 - ab3*ad1*p2 + ab3*ad2*p1)/(ab1*ac2*ad3 - ab1*ac3*ad2 - ab2*ac1*ad3 + ab2*ac3*ad1 + ab3*ac1*ad2 - ab3*ac2*ad1);\n",
      "let k3 = (-a1*ab2*ac3 + a1*ab3*ac2 + a2*ab1*ac3 - a2*ab3*ac1 - a3*ab1*ac2 + a3*ab2*ac1 + ab1*ac2*p3 - ab1*ac3*p2 - ab2*ac1*p3 + ab2*ac3*p1 + ab3*ac1*p2 - ab3*ac2*p1)/(ab1*ac2*ad3 - ab1*ac3*ad2 - ab2*ac1*ad3 + ab2*ac3*ad1 + ab3*ac1*ad2 - ab3*ac2*ad1);\n"
     ]
    }
   ],
   "source": [
    "import sympy as sp\n",
    "\n",
    "# 定义符号\n",
    "k1, k2, k3 = sp.symbols(\"k1 k2 k3\")\n",
    "a1, a2, a3 = sp.symbols(\"a1 a2 a3\")\n",
    "ab1, ab2, ab3 = sp.symbols(\"ab1 ab2 ab3\")\n",
    "ac1, ac2, ac3 = sp.symbols(\"ac1 ac2 ac3\")\n",
    "ad1, ad2, ad3 = sp.symbols(\"ad1 ad2 ad3\")\n",
    "p1, p2, p3 = sp.symbols(\"p1 p2 p3\")\n",
    "\n",
    "\n",
    "# 建立方程组\n",
    "eq1 = a1 + k1 * ab1 + k2 * ac1 + k3 * ad1 - p1\n",
    "eq2 = a2 + k1 * ab2 + k2 * ac2 + k3 * ad2 - p2\n",
    "eq3 = a3 + k1 * ab3 + k2 * ac3 + k3 * ad3 - p3\n",
    "\n",
    "\n",
    "# 求解方程组\n",
    "solution = sp.solve([eq1, eq2, eq3], (k1, k2, k3))\n",
    "\n",
    "for k, v in solution.items():\n",
    "    print(f\"let {k} = {v};\")\n"
   ]
  },
  {
   "cell_type": "code",
   "execution_count": 4,
   "metadata": {},
   "outputs": [
    {
     "name": "stdout",
     "output_type": "stream",
     "text": [
      "k1>=0.0&&k1<=1.0 && k2>=0.0&&k2<=1.0 && k3>=0.0&&k3<=1.0\n"
     ]
    }
   ],
   "source": [
    "print(\" && \".join([f\"k{i}>=0.0&&k{i}<=1.0\" for i in [1,2,3]]))"
   ]
  },
  {
   "cell_type": "code",
   "execution_count": null,
   "metadata": {},
   "outputs": [],
   "source": []
  },
  {
   "cell_type": "code",
   "execution_count": null,
   "metadata": {},
   "outputs": [],
   "source": []
  },
  {
   "cell_type": "code",
   "execution_count": null,
   "metadata": {},
   "outputs": [],
   "source": []
  },
  {
   "cell_type": "code",
   "execution_count": null,
   "metadata": {},
   "outputs": [],
   "source": []
  },
  {
   "cell_type": "code",
   "execution_count": null,
   "metadata": {},
   "outputs": [],
   "source": []
  },
  {
   "cell_type": "code",
   "execution_count": null,
   "metadata": {},
   "outputs": [],
   "source": []
  },
  {
   "cell_type": "code",
   "execution_count": null,
   "metadata": {},
   "outputs": [],
   "source": []
  },
  {
   "cell_type": "code",
   "execution_count": null,
   "metadata": {},
   "outputs": [],
   "source": []
  },
  {
   "cell_type": "code",
   "execution_count": null,
   "metadata": {},
   "outputs": [],
   "source": []
  }
 ],
 "metadata": {
  "kernelspec": {
   "display_name": "playground",
   "language": "python",
   "name": "python3"
  },
  "language_info": {
   "codemirror_mode": {
    "name": "ipython",
    "version": 3
   },
   "file_extension": ".py",
   "mimetype": "text/x-python",
   "name": "python",
   "nbconvert_exporter": "python",
   "pygments_lexer": "ipython3",
   "version": "3.10.13"
  }
 },
 "nbformat": 4,
 "nbformat_minor": 2
}
